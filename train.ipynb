{
 "cells": [
  {
   "cell_type": "code",
   "execution_count": 2,
   "id": "43946c57",
   "metadata": {},
   "outputs": [
    {
     "name": "stdout",
     "output_type": "stream",
     "text": [
      "CUDA available: True\n",
      "Number of GPUs: 1\n",
      "Current GPU: 0\n",
      "GPU Name: NVIDIA GeForce RTX 4050 Laptop GPU\n"
     ]
    }
   ],
   "source": [
    "import torch\n",
    "\n",
    "print(\"CUDA available:\", torch.cuda.is_available())\n",
    "print(\"Number of GPUs:\", torch.cuda.device_count())\n",
    "if torch.cuda.is_available():\n",
    "    print(\"Current GPU:\", torch.cuda.current_device())\n",
    "    print(\"GPU Name:\", torch.cuda.get_device_name(torch.cuda.current_device()))"
   ]
  },
  {
   "cell_type": "code",
   "execution_count": 3,
   "id": "c15a42a3",
   "metadata": {},
   "outputs": [
    {
     "name": "stdout",
     "output_type": "stream",
     "text": [
      "Ultralytics 8.3.140  Python-3.10.16 torch-2.7.0+cu118 CUDA:0 (NVIDIA GeForce RTX 4050 Laptop GPU, 6140MiB)\n",
      "\u001b[34m\u001b[1mengine\\trainer: \u001b[0magnostic_nms=False, amp=True, augment=False, auto_augment=randaugment, batch=16, bgr=0.0, box=7.5, cache=False, cfg=None, classes=None, close_mosaic=10, cls=0.5, conf=None, copy_paste=0.0, copy_paste_mode=flip, cos_lr=False, cutmix=0.0, data=dataset/data.yaml, degrees=0.0, deterministic=True, device=0, dfl=1.5, dnn=False, dropout=0.0, dynamic=False, embed=None, epochs=4, erasing=0.4, exist_ok=False, fliplr=0.5, flipud=0.0, format=torchscript, fraction=1.0, freeze=None, half=False, hsv_h=0.015, hsv_s=0.7, hsv_v=0.4, imgsz=640, int8=False, iou=0.7, keras=False, kobj=1.0, line_width=None, lr0=0.01, lrf=0.01, mask_ratio=4, max_det=300, mixup=0.0, mode=train, model=yolo11n.pt, momentum=0.937, mosaic=1.0, multi_scale=False, name=train11, nbs=64, nms=False, opset=None, optimize=False, optimizer=auto, overlap_mask=True, patience=100, perspective=0.0, plots=True, pose=12.0, pretrained=True, profile=False, project=None, rect=False, resume=False, retina_masks=False, save=True, save_conf=False, save_crop=False, save_dir=runs\\detect\\train11, save_frames=False, save_json=False, save_period=-1, save_txt=False, scale=0.5, seed=0, shear=0.0, show=False, show_boxes=True, show_conf=True, show_labels=True, simplify=True, single_cls=False, source=None, split=val, stream_buffer=False, task=detect, time=None, tracker=botsort.yaml, translate=0.1, val=True, verbose=True, vid_stride=1, visualize=False, warmup_bias_lr=0.1, warmup_epochs=3.0, warmup_momentum=0.8, weight_decay=0.0005, workers=8, workspace=None\n",
      "Overriding model.yaml nc=80 with nc=1\n",
      "\n",
      "                   from  n    params  module                                       arguments                     \n",
      "  0                  -1  1       464  ultralytics.nn.modules.conv.Conv             [3, 16, 3, 2]                 \n",
      "  1                  -1  1      4672  ultralytics.nn.modules.conv.Conv             [16, 32, 3, 2]                \n",
      "  2                  -1  1      6640  ultralytics.nn.modules.block.C3k2            [32, 64, 1, False, 0.25]      \n",
      "  3                  -1  1     36992  ultralytics.nn.modules.conv.Conv             [64, 64, 3, 2]                \n",
      "  4                  -1  1     26080  ultralytics.nn.modules.block.C3k2            [64, 128, 1, False, 0.25]     \n",
      "  5                  -1  1    147712  ultralytics.nn.modules.conv.Conv             [128, 128, 3, 2]              \n",
      "  6                  -1  1     87040  ultralytics.nn.modules.block.C3k2            [128, 128, 1, True]           \n",
      "  7                  -1  1    295424  ultralytics.nn.modules.conv.Conv             [128, 256, 3, 2]              \n",
      "  8                  -1  1    346112  ultralytics.nn.modules.block.C3k2            [256, 256, 1, True]           \n",
      "  9                  -1  1    164608  ultralytics.nn.modules.block.SPPF            [256, 256, 5]                 \n",
      " 10                  -1  1    249728  ultralytics.nn.modules.block.C2PSA           [256, 256, 1]                 \n",
      " 11                  -1  1         0  torch.nn.modules.upsampling.Upsample         [None, 2, 'nearest']          \n",
      " 12             [-1, 6]  1         0  ultralytics.nn.modules.conv.Concat           [1]                           \n",
      " 13                  -1  1    111296  ultralytics.nn.modules.block.C3k2            [384, 128, 1, False]          \n",
      " 14                  -1  1         0  torch.nn.modules.upsampling.Upsample         [None, 2, 'nearest']          \n",
      " 15             [-1, 4]  1         0  ultralytics.nn.modules.conv.Concat           [1]                           \n",
      " 16                  -1  1     32096  ultralytics.nn.modules.block.C3k2            [256, 64, 1, False]           \n",
      " 17                  -1  1     36992  ultralytics.nn.modules.conv.Conv             [64, 64, 3, 2]                \n",
      " 18            [-1, 13]  1         0  ultralytics.nn.modules.conv.Concat           [1]                           \n",
      " 19                  -1  1     86720  ultralytics.nn.modules.block.C3k2            [192, 128, 1, False]          \n",
      " 20                  -1  1    147712  ultralytics.nn.modules.conv.Conv             [128, 128, 3, 2]              \n",
      " 21            [-1, 10]  1         0  ultralytics.nn.modules.conv.Concat           [1]                           \n",
      " 22                  -1  1    378880  ultralytics.nn.modules.block.C3k2            [384, 256, 1, True]           \n",
      " 23        [16, 19, 22]  1    430867  ultralytics.nn.modules.head.Detect           [1, [64, 128, 256]]           \n",
      "YOLO11n summary: 181 layers, 2,590,035 parameters, 2,590,019 gradients, 6.4 GFLOPs\n",
      "\n",
      "Transferred 448/499 items from pretrained weights\n",
      "Freezing layer 'model.23.dfl.conv.weight'\n",
      "\u001b[34m\u001b[1mAMP: \u001b[0mrunning Automatic Mixed Precision (AMP) checks...\n",
      "\u001b[34m\u001b[1mAMP: \u001b[0mchecks passed \n",
      "\u001b[34m\u001b[1mtrain: \u001b[0mFast image access  (ping: 0.10.1 ms, read: 135.1103.5 MB/s, size: 43.7 KB)\n"
     ]
    },
    {
     "name": "stderr",
     "output_type": "stream",
     "text": [
      "\u001b[34m\u001b[1mtrain: \u001b[0mScanning D:\\Mycode\\YOLO\\dataset\\train\\labels.cache... 21173 images, 28 backgrounds, 0 corrupt: 100%|██████████| 21173/21173 [00:00<?, ?it/s]\n"
     ]
    },
    {
     "name": "stdout",
     "output_type": "stream",
     "text": [
      "\u001b[34m\u001b[1mval: \u001b[0mFast image access  (ping: 0.10.0 ms, read: 287.1133.4 MB/s, size: 35.9 KB)\n"
     ]
    },
    {
     "name": "stderr",
     "output_type": "stream",
     "text": [
      "\u001b[34m\u001b[1mval: \u001b[0mScanning D:\\Mycode\\YOLO\\dataset\\valid\\labels.cache... 2046 images, 3 backgrounds, 0 corrupt: 100%|██████████| 2046/2046 [00:00<?, ?it/s]\n"
     ]
    },
    {
     "name": "stdout",
     "output_type": "stream",
     "text": [
      "Plotting labels to runs\\detect\\train11\\labels.jpg... \n",
      "\u001b[34m\u001b[1moptimizer:\u001b[0m 'optimizer=auto' found, ignoring 'lr0=0.01' and 'momentum=0.937' and determining best 'optimizer', 'lr0' and 'momentum' automatically... \n",
      "\u001b[34m\u001b[1moptimizer:\u001b[0m AdamW(lr=0.002, momentum=0.9) with parameter groups 81 weight(decay=0.0), 88 weight(decay=0.0005), 87 bias(decay=0.0)\n",
      "Image sizes 640 train, 640 val\n",
      "Using 8 dataloader workers\n",
      "Logging results to \u001b[1mruns\\detect\\train11\u001b[0m\n",
      "Starting training for 4 epochs...\n",
      "\n",
      "      Epoch    GPU_mem   box_loss   cls_loss   dfl_loss  Instances       Size\n"
     ]
    },
    {
     "name": "stderr",
     "output_type": "stream",
     "text": [
      "        1/4      2.32G      1.266      1.331      1.229          9        640: 100%|██████████| 1324/1324 [05:13<00:00,  4.22it/s]\n",
      "                 Class     Images  Instances      Box(P          R      mAP50  mAP50-95): 100%|██████████| 64/64 [00:19<00:00,  3.32it/s]"
     ]
    },
    {
     "name": "stdout",
     "output_type": "stream",
     "text": [
      "                   all       2046       2132      0.938      0.866       0.93      0.555\n"
     ]
    },
    {
     "name": "stderr",
     "output_type": "stream",
     "text": [
      "\n"
     ]
    },
    {
     "name": "stdout",
     "output_type": "stream",
     "text": [
      "\n",
      "      Epoch    GPU_mem   box_loss   cls_loss   dfl_loss  Instances       Size\n"
     ]
    },
    {
     "name": "stderr",
     "output_type": "stream",
     "text": [
      "        2/4      2.65G      1.248      0.788      1.238          4        640: 100%|██████████| 1324/1324 [04:44<00:00,  4.66it/s]\n",
      "                 Class     Images  Instances      Box(P          R      mAP50  mAP50-95): 100%|██████████| 64/64 [00:18<00:00,  3.45it/s]"
     ]
    },
    {
     "name": "stdout",
     "output_type": "stream",
     "text": [
      "                   all       2046       2132      0.929      0.909      0.947      0.594\n"
     ]
    },
    {
     "name": "stderr",
     "output_type": "stream",
     "text": [
      "\n"
     ]
    },
    {
     "name": "stdout",
     "output_type": "stream",
     "text": [
      "\n",
      "      Epoch    GPU_mem   box_loss   cls_loss   dfl_loss  Instances       Size\n"
     ]
    },
    {
     "name": "stderr",
     "output_type": "stream",
     "text": [
      "        3/4      2.67G      1.209     0.7092      1.222          7        640: 100%|██████████| 1324/1324 [04:33<00:00,  4.84it/s]\n",
      "                 Class     Images  Instances      Box(P          R      mAP50  mAP50-95): 100%|██████████| 64/64 [00:18<00:00,  3.43it/s]"
     ]
    },
    {
     "name": "stdout",
     "output_type": "stream",
     "text": [
      "                   all       2046       2132      0.917      0.924       0.95      0.611\n"
     ]
    },
    {
     "name": "stderr",
     "output_type": "stream",
     "text": [
      "\n"
     ]
    },
    {
     "name": "stdout",
     "output_type": "stream",
     "text": [
      "\n",
      "      Epoch    GPU_mem   box_loss   cls_loss   dfl_loss  Instances       Size\n"
     ]
    },
    {
     "name": "stderr",
     "output_type": "stream",
     "text": [
      "        4/4      2.67G      1.139     0.6156      1.183          8        640: 100%|██████████| 1324/1324 [04:32<00:00,  4.87it/s]\n",
      "                 Class     Images  Instances      Box(P          R      mAP50  mAP50-95): 100%|██████████| 64/64 [00:18<00:00,  3.47it/s]"
     ]
    },
    {
     "name": "stdout",
     "output_type": "stream",
     "text": [
      "                   all       2046       2132      0.975      0.929       0.97      0.638\n"
     ]
    },
    {
     "name": "stderr",
     "output_type": "stream",
     "text": [
      "\n"
     ]
    },
    {
     "name": "stdout",
     "output_type": "stream",
     "text": [
      "\n",
      "4 epochs completed in 0.339 hours.\n",
      "Optimizer stripped from runs\\detect\\train11\\weights\\last.pt, 5.5MB\n",
      "Optimizer stripped from runs\\detect\\train11\\weights\\best.pt, 5.5MB\n",
      "\n",
      "Validating runs\\detect\\train11\\weights\\best.pt...\n",
      "Ultralytics 8.3.140  Python-3.10.16 torch-2.7.0+cu118 CUDA:0 (NVIDIA GeForce RTX 4050 Laptop GPU, 6140MiB)\n",
      "YOLO11n summary (fused): 100 layers, 2,582,347 parameters, 0 gradients, 6.3 GFLOPs\n"
     ]
    },
    {
     "name": "stderr",
     "output_type": "stream",
     "text": [
      "                 Class     Images  Instances      Box(P          R      mAP50  mAP50-95): 100%|██████████| 64/64 [00:20<00:00,  3.05it/s]\n"
     ]
    },
    {
     "name": "stdout",
     "output_type": "stream",
     "text": [
      "                   all       2046       2132      0.975      0.929       0.97      0.638\n",
      "Speed: 0.2ms preprocess, 2.1ms inference, 0.0ms loss, 2.2ms postprocess per image\n",
      "Results saved to \u001b[1mruns\\detect\\train11\u001b[0m\n"
     ]
    }
   ],
   "source": [
    "from ultralytics import YOLO\n",
    "model = YOLO(\"yolo11n.pt\")\n",
    "train_res = model.train(\n",
    "    data = \"dataset/data.yaml\",\n",
    "    epochs = 4,\n",
    "    imgsz = 640,\n",
    "    device=0\n",
    ")"
   ]
  },
  {
   "cell_type": "code",
   "execution_count": 6,
   "id": "3532c222",
   "metadata": {},
   "outputs": [
    {
     "name": "stdout",
     "output_type": "stream",
     "text": [
      "\n",
      "image 1/1 d:\\Mycode\\YOLO\\test_images\\0.jpg: 448x640 1 License_Plate, 65.1ms\n",
      "Speed: 4.8ms preprocess, 65.1ms inference, 5.1ms postprocess per image at shape (1, 3, 448, 640)\n",
      "Results saved to \u001b[1mruns\\detect\\predict\u001b[0m\n"
     ]
    }
   ],
   "source": [
    "from ultralytics import YOLO\n",
    "model =  YOLO(\"runs/detect/train11/weights/best.pt\")\n",
    "results = model(\"test_images/0.jpg\",save=True)\n",
    "results[0].show()"
   ]
  },
  {
   "cell_type": "code",
   "execution_count": 11,
   "id": "11c5bee4",
   "metadata": {},
   "outputs": [
    {
     "name": "stdout",
     "output_type": "stream",
     "text": [
      "\n",
      "WARNING \n",
      "inference results will accumulate in RAM unless `stream=True` is passed, causing potential out-of-memory\n",
      "errors for large sources or long-running streams and videos. See https://docs.ultralytics.com/modes/predict/ for help.\n",
      "\n",
      "Example:\n",
      "    results = model(source=..., stream=True)  # generator of Results objects\n",
      "    for r in results:\n",
      "        boxes = r.boxes  # Boxes object for bbox outputs\n",
      "        masks = r.masks  # Masks object for segment masks outputs\n",
      "        probs = r.probs  # Class probabilities for classification outputs\n",
      "\n",
      "video 1/1 (frame 1/258) d:\\Mycode\\YOLO\\test_videos\\2.mp4: 384x640 1 License_Plate, 22.5ms\n",
      "video 1/1 (frame 2/258) d:\\Mycode\\YOLO\\test_videos\\2.mp4: 384x640 1 License_Plate, 21.4ms\n",
      "video 1/1 (frame 3/258) d:\\Mycode\\YOLO\\test_videos\\2.mp4: 384x640 1 License_Plate, 21.0ms\n",
      "video 1/1 (frame 4/258) d:\\Mycode\\YOLO\\test_videos\\2.mp4: 384x640 1 License_Plate, 19.9ms\n",
      "video 1/1 (frame 5/258) d:\\Mycode\\YOLO\\test_videos\\2.mp4: 384x640 1 License_Plate, 19.3ms\n",
      "video 1/1 (frame 6/258) d:\\Mycode\\YOLO\\test_videos\\2.mp4: 384x640 1 License_Plate, 21.3ms\n",
      "video 1/1 (frame 7/258) d:\\Mycode\\YOLO\\test_videos\\2.mp4: 384x640 1 License_Plate, 19.2ms\n",
      "video 1/1 (frame 8/258) d:\\Mycode\\YOLO\\test_videos\\2.mp4: 384x640 1 License_Plate, 19.9ms\n",
      "video 1/1 (frame 9/258) d:\\Mycode\\YOLO\\test_videos\\2.mp4: 384x640 1 License_Plate, 19.0ms\n",
      "video 1/1 (frame 10/258) d:\\Mycode\\YOLO\\test_videos\\2.mp4: 384x640 1 License_Plate, 18.8ms\n",
      "video 1/1 (frame 11/258) d:\\Mycode\\YOLO\\test_videos\\2.mp4: 384x640 1 License_Plate, 18.6ms\n",
      "video 1/1 (frame 12/258) d:\\Mycode\\YOLO\\test_videos\\2.mp4: 384x640 1 License_Plate, 18.7ms\n",
      "video 1/1 (frame 13/258) d:\\Mycode\\YOLO\\test_videos\\2.mp4: 384x640 1 License_Plate, 17.6ms\n",
      "video 1/1 (frame 14/258) d:\\Mycode\\YOLO\\test_videos\\2.mp4: 384x640 1 License_Plate, 17.7ms\n",
      "video 1/1 (frame 15/258) d:\\Mycode\\YOLO\\test_videos\\2.mp4: 384x640 1 License_Plate, 17.4ms\n",
      "video 1/1 (frame 16/258) d:\\Mycode\\YOLO\\test_videos\\2.mp4: 384x640 1 License_Plate, 18.0ms\n",
      "video 1/1 (frame 17/258) d:\\Mycode\\YOLO\\test_videos\\2.mp4: 384x640 1 License_Plate, 17.7ms\n",
      "video 1/1 (frame 18/258) d:\\Mycode\\YOLO\\test_videos\\2.mp4: 384x640 1 License_Plate, 18.3ms\n",
      "video 1/1 (frame 19/258) d:\\Mycode\\YOLO\\test_videos\\2.mp4: 384x640 1 License_Plate, 17.7ms\n",
      "video 1/1 (frame 20/258) d:\\Mycode\\YOLO\\test_videos\\2.mp4: 384x640 1 License_Plate, 19.3ms\n",
      "video 1/1 (frame 21/258) d:\\Mycode\\YOLO\\test_videos\\2.mp4: 384x640 1 License_Plate, 17.7ms\n",
      "video 1/1 (frame 22/258) d:\\Mycode\\YOLO\\test_videos\\2.mp4: 384x640 1 License_Plate, 17.8ms\n",
      "video 1/1 (frame 23/258) d:\\Mycode\\YOLO\\test_videos\\2.mp4: 384x640 1 License_Plate, 17.7ms\n",
      "video 1/1 (frame 24/258) d:\\Mycode\\YOLO\\test_videos\\2.mp4: 384x640 1 License_Plate, 17.6ms\n",
      "video 1/1 (frame 25/258) d:\\Mycode\\YOLO\\test_videos\\2.mp4: 384x640 1 License_Plate, 17.9ms\n",
      "video 1/1 (frame 26/258) d:\\Mycode\\YOLO\\test_videos\\2.mp4: 384x640 1 License_Plate, 17.9ms\n",
      "video 1/1 (frame 27/258) d:\\Mycode\\YOLO\\test_videos\\2.mp4: 384x640 1 License_Plate, 18.3ms\n",
      "video 1/1 (frame 28/258) d:\\Mycode\\YOLO\\test_videos\\2.mp4: 384x640 1 License_Plate, 18.0ms\n",
      "video 1/1 (frame 29/258) d:\\Mycode\\YOLO\\test_videos\\2.mp4: 384x640 1 License_Plate, 17.6ms\n",
      "video 1/1 (frame 30/258) d:\\Mycode\\YOLO\\test_videos\\2.mp4: 384x640 1 License_Plate, 17.7ms\n",
      "video 1/1 (frame 31/258) d:\\Mycode\\YOLO\\test_videos\\2.mp4: 384x640 1 License_Plate, 18.1ms\n",
      "video 1/1 (frame 32/258) d:\\Mycode\\YOLO\\test_videos\\2.mp4: 384x640 1 License_Plate, 19.1ms\n",
      "video 1/1 (frame 33/258) d:\\Mycode\\YOLO\\test_videos\\2.mp4: 384x640 1 License_Plate, 18.7ms\n",
      "video 1/1 (frame 34/258) d:\\Mycode\\YOLO\\test_videos\\2.mp4: 384x640 1 License_Plate, 18.1ms\n",
      "video 1/1 (frame 35/258) d:\\Mycode\\YOLO\\test_videos\\2.mp4: 384x640 1 License_Plate, 17.6ms\n",
      "video 1/1 (frame 36/258) d:\\Mycode\\YOLO\\test_videos\\2.mp4: 384x640 1 License_Plate, 17.8ms\n",
      "video 1/1 (frame 37/258) d:\\Mycode\\YOLO\\test_videos\\2.mp4: 384x640 1 License_Plate, 18.0ms\n",
      "video 1/1 (frame 38/258) d:\\Mycode\\YOLO\\test_videos\\2.mp4: 384x640 1 License_Plate, 17.9ms\n",
      "video 1/1 (frame 39/258) d:\\Mycode\\YOLO\\test_videos\\2.mp4: 384x640 1 License_Plate, 17.9ms\n",
      "video 1/1 (frame 40/258) d:\\Mycode\\YOLO\\test_videos\\2.mp4: 384x640 1 License_Plate, 17.9ms\n",
      "video 1/1 (frame 41/258) d:\\Mycode\\YOLO\\test_videos\\2.mp4: 384x640 1 License_Plate, 17.7ms\n",
      "video 1/1 (frame 42/258) d:\\Mycode\\YOLO\\test_videos\\2.mp4: 384x640 1 License_Plate, 17.9ms\n",
      "video 1/1 (frame 43/258) d:\\Mycode\\YOLO\\test_videos\\2.mp4: 384x640 1 License_Plate, 17.9ms\n",
      "video 1/1 (frame 44/258) d:\\Mycode\\YOLO\\test_videos\\2.mp4: 384x640 1 License_Plate, 17.6ms\n",
      "video 1/1 (frame 45/258) d:\\Mycode\\YOLO\\test_videos\\2.mp4: 384x640 1 License_Plate, 17.7ms\n",
      "video 1/1 (frame 46/258) d:\\Mycode\\YOLO\\test_videos\\2.mp4: 384x640 1 License_Plate, 18.6ms\n",
      "video 1/1 (frame 47/258) d:\\Mycode\\YOLO\\test_videos\\2.mp4: 384x640 1 License_Plate, 20.4ms\n",
      "video 1/1 (frame 48/258) d:\\Mycode\\YOLO\\test_videos\\2.mp4: 384x640 1 License_Plate, 17.9ms\n",
      "video 1/1 (frame 49/258) d:\\Mycode\\YOLO\\test_videos\\2.mp4: 384x640 1 License_Plate, 18.2ms\n",
      "video 1/1 (frame 50/258) d:\\Mycode\\YOLO\\test_videos\\2.mp4: 384x640 1 License_Plate, 18.6ms\n",
      "video 1/1 (frame 51/258) d:\\Mycode\\YOLO\\test_videos\\2.mp4: 384x640 1 License_Plate, 18.5ms\n",
      "video 1/1 (frame 52/258) d:\\Mycode\\YOLO\\test_videos\\2.mp4: 384x640 1 License_Plate, 18.5ms\n",
      "video 1/1 (frame 53/258) d:\\Mycode\\YOLO\\test_videos\\2.mp4: 384x640 1 License_Plate, 20.4ms\n",
      "video 1/1 (frame 54/258) d:\\Mycode\\YOLO\\test_videos\\2.mp4: 384x640 1 License_Plate, 18.7ms\n",
      "video 1/1 (frame 55/258) d:\\Mycode\\YOLO\\test_videos\\2.mp4: 384x640 1 License_Plate, 19.0ms\n",
      "video 1/1 (frame 56/258) d:\\Mycode\\YOLO\\test_videos\\2.mp4: 384x640 1 License_Plate, 18.6ms\n",
      "video 1/1 (frame 57/258) d:\\Mycode\\YOLO\\test_videos\\2.mp4: 384x640 1 License_Plate, 18.5ms\n",
      "video 1/1 (frame 58/258) d:\\Mycode\\YOLO\\test_videos\\2.mp4: 384x640 1 License_Plate, 18.8ms\n",
      "video 1/1 (frame 59/258) d:\\Mycode\\YOLO\\test_videos\\2.mp4: 384x640 1 License_Plate, 19.0ms\n",
      "video 1/1 (frame 60/258) d:\\Mycode\\YOLO\\test_videos\\2.mp4: 384x640 1 License_Plate, 18.7ms\n",
      "video 1/1 (frame 61/258) d:\\Mycode\\YOLO\\test_videos\\2.mp4: 384x640 1 License_Plate, 18.5ms\n",
      "video 1/1 (frame 62/258) d:\\Mycode\\YOLO\\test_videos\\2.mp4: 384x640 1 License_Plate, 21.5ms\n",
      "video 1/1 (frame 63/258) d:\\Mycode\\YOLO\\test_videos\\2.mp4: 384x640 1 License_Plate, 18.8ms\n",
      "video 1/1 (frame 64/258) d:\\Mycode\\YOLO\\test_videos\\2.mp4: 384x640 1 License_Plate, 19.2ms\n",
      "video 1/1 (frame 65/258) d:\\Mycode\\YOLO\\test_videos\\2.mp4: 384x640 1 License_Plate, 19.4ms\n",
      "video 1/1 (frame 66/258) d:\\Mycode\\YOLO\\test_videos\\2.mp4: 384x640 1 License_Plate, 19.9ms\n",
      "video 1/1 (frame 67/258) d:\\Mycode\\YOLO\\test_videos\\2.mp4: 384x640 1 License_Plate, 20.5ms\n",
      "video 1/1 (frame 68/258) d:\\Mycode\\YOLO\\test_videos\\2.mp4: 384x640 1 License_Plate, 20.0ms\n",
      "video 1/1 (frame 69/258) d:\\Mycode\\YOLO\\test_videos\\2.mp4: 384x640 1 License_Plate, 20.1ms\n",
      "video 1/1 (frame 70/258) d:\\Mycode\\YOLO\\test_videos\\2.mp4: 384x640 1 License_Plate, 19.9ms\n",
      "video 1/1 (frame 71/258) d:\\Mycode\\YOLO\\test_videos\\2.mp4: 384x640 1 License_Plate, 29.3ms\n",
      "video 1/1 (frame 72/258) d:\\Mycode\\YOLO\\test_videos\\2.mp4: 384x640 1 License_Plate, 21.1ms\n",
      "video 1/1 (frame 73/258) d:\\Mycode\\YOLO\\test_videos\\2.mp4: 384x640 1 License_Plate, 19.9ms\n",
      "video 1/1 (frame 74/258) d:\\Mycode\\YOLO\\test_videos\\2.mp4: 384x640 1 License_Plate, 20.0ms\n",
      "video 1/1 (frame 75/258) d:\\Mycode\\YOLO\\test_videos\\2.mp4: 384x640 1 License_Plate, 19.6ms\n",
      "video 1/1 (frame 76/258) d:\\Mycode\\YOLO\\test_videos\\2.mp4: 384x640 1 License_Plate, 19.9ms\n",
      "video 1/1 (frame 77/258) d:\\Mycode\\YOLO\\test_videos\\2.mp4: 384x640 1 License_Plate, 21.2ms\n",
      "video 1/1 (frame 78/258) d:\\Mycode\\YOLO\\test_videos\\2.mp4: 384x640 1 License_Plate, 19.8ms\n",
      "video 1/1 (frame 79/258) d:\\Mycode\\YOLO\\test_videos\\2.mp4: 384x640 1 License_Plate, 19.6ms\n",
      "video 1/1 (frame 80/258) d:\\Mycode\\YOLO\\test_videos\\2.mp4: 384x640 1 License_Plate, 19.7ms\n",
      "video 1/1 (frame 81/258) d:\\Mycode\\YOLO\\test_videos\\2.mp4: 384x640 1 License_Plate, 20.4ms\n",
      "video 1/1 (frame 82/258) d:\\Mycode\\YOLO\\test_videos\\2.mp4: 384x640 1 License_Plate, 20.4ms\n",
      "video 1/1 (frame 83/258) d:\\Mycode\\YOLO\\test_videos\\2.mp4: 384x640 1 License_Plate, 19.6ms\n",
      "video 1/1 (frame 84/258) d:\\Mycode\\YOLO\\test_videos\\2.mp4: 384x640 1 License_Plate, 19.7ms\n",
      "video 1/1 (frame 85/258) d:\\Mycode\\YOLO\\test_videos\\2.mp4: 384x640 1 License_Plate, 19.3ms\n",
      "video 1/1 (frame 86/258) d:\\Mycode\\YOLO\\test_videos\\2.mp4: 384x640 1 License_Plate, 19.6ms\n",
      "video 1/1 (frame 87/258) d:\\Mycode\\YOLO\\test_videos\\2.mp4: 384x640 1 License_Plate, 21.5ms\n",
      "video 1/1 (frame 88/258) d:\\Mycode\\YOLO\\test_videos\\2.mp4: 384x640 1 License_Plate, 21.7ms\n",
      "video 1/1 (frame 89/258) d:\\Mycode\\YOLO\\test_videos\\2.mp4: 384x640 1 License_Plate, 19.5ms\n",
      "video 1/1 (frame 90/258) d:\\Mycode\\YOLO\\test_videos\\2.mp4: 384x640 1 License_Plate, 19.6ms\n",
      "video 1/1 (frame 91/258) d:\\Mycode\\YOLO\\test_videos\\2.mp4: 384x640 1 License_Plate, 19.8ms\n",
      "video 1/1 (frame 92/258) d:\\Mycode\\YOLO\\test_videos\\2.mp4: 384x640 1 License_Plate, 19.6ms\n",
      "video 1/1 (frame 93/258) d:\\Mycode\\YOLO\\test_videos\\2.mp4: 384x640 1 License_Plate, 20.0ms\n",
      "video 1/1 (frame 94/258) d:\\Mycode\\YOLO\\test_videos\\2.mp4: 384x640 1 License_Plate, 19.7ms\n",
      "video 1/1 (frame 95/258) d:\\Mycode\\YOLO\\test_videos\\2.mp4: 384x640 1 License_Plate, 20.1ms\n",
      "video 1/1 (frame 96/258) d:\\Mycode\\YOLO\\test_videos\\2.mp4: 384x640 1 License_Plate, 19.4ms\n",
      "video 1/1 (frame 97/258) d:\\Mycode\\YOLO\\test_videos\\2.mp4: 384x640 1 License_Plate, 19.4ms\n",
      "video 1/1 (frame 98/258) d:\\Mycode\\YOLO\\test_videos\\2.mp4: 384x640 1 License_Plate, 19.7ms\n",
      "video 1/1 (frame 99/258) d:\\Mycode\\YOLO\\test_videos\\2.mp4: 384x640 1 License_Plate, 19.7ms\n",
      "video 1/1 (frame 100/258) d:\\Mycode\\YOLO\\test_videos\\2.mp4: 384x640 1 License_Plate, 21.5ms\n",
      "video 1/1 (frame 101/258) d:\\Mycode\\YOLO\\test_videos\\2.mp4: 384x640 1 License_Plate, 19.9ms\n",
      "video 1/1 (frame 102/258) d:\\Mycode\\YOLO\\test_videos\\2.mp4: 384x640 1 License_Plate, 19.7ms\n",
      "video 1/1 (frame 103/258) d:\\Mycode\\YOLO\\test_videos\\2.mp4: 384x640 1 License_Plate, 19.7ms\n",
      "video 1/1 (frame 104/258) d:\\Mycode\\YOLO\\test_videos\\2.mp4: 384x640 1 License_Plate, 19.6ms\n",
      "video 1/1 (frame 105/258) d:\\Mycode\\YOLO\\test_videos\\2.mp4: 384x640 1 License_Plate, 19.8ms\n",
      "video 1/1 (frame 106/258) d:\\Mycode\\YOLO\\test_videos\\2.mp4: 384x640 1 License_Plate, 20.0ms\n",
      "video 1/1 (frame 107/258) d:\\Mycode\\YOLO\\test_videos\\2.mp4: 384x640 1 License_Plate, 21.0ms\n",
      "video 1/1 (frame 108/258) d:\\Mycode\\YOLO\\test_videos\\2.mp4: 384x640 1 License_Plate, 22.4ms\n",
      "video 1/1 (frame 109/258) d:\\Mycode\\YOLO\\test_videos\\2.mp4: 384x640 1 License_Plate, 19.7ms\n",
      "video 1/1 (frame 110/258) d:\\Mycode\\YOLO\\test_videos\\2.mp4: 384x640 1 License_Plate, 19.5ms\n",
      "video 1/1 (frame 111/258) d:\\Mycode\\YOLO\\test_videos\\2.mp4: 384x640 1 License_Plate, 21.4ms\n",
      "video 1/1 (frame 112/258) d:\\Mycode\\YOLO\\test_videos\\2.mp4: 384x640 1 License_Plate, 21.5ms\n",
      "video 1/1 (frame 113/258) d:\\Mycode\\YOLO\\test_videos\\2.mp4: 384x640 1 License_Plate, 25.5ms\n",
      "video 1/1 (frame 114/258) d:\\Mycode\\YOLO\\test_videos\\2.mp4: 384x640 1 License_Plate, 20.0ms\n",
      "video 1/1 (frame 115/258) d:\\Mycode\\YOLO\\test_videos\\2.mp4: 384x640 1 License_Plate, 19.3ms\n",
      "video 1/1 (frame 116/258) d:\\Mycode\\YOLO\\test_videos\\2.mp4: 384x640 1 License_Plate, 19.4ms\n",
      "video 1/1 (frame 117/258) d:\\Mycode\\YOLO\\test_videos\\2.mp4: 384x640 1 License_Plate, 19.5ms\n",
      "video 1/1 (frame 118/258) d:\\Mycode\\YOLO\\test_videos\\2.mp4: 384x640 1 License_Plate, 20.1ms\n",
      "video 1/1 (frame 119/258) d:\\Mycode\\YOLO\\test_videos\\2.mp4: 384x640 1 License_Plate, 19.6ms\n",
      "video 1/1 (frame 120/258) d:\\Mycode\\YOLO\\test_videos\\2.mp4: 384x640 1 License_Plate, 19.4ms\n",
      "video 1/1 (frame 121/258) d:\\Mycode\\YOLO\\test_videos\\2.mp4: 384x640 1 License_Plate, 19.4ms\n",
      "video 1/1 (frame 122/258) d:\\Mycode\\YOLO\\test_videos\\2.mp4: 384x640 1 License_Plate, 19.6ms\n",
      "video 1/1 (frame 123/258) d:\\Mycode\\YOLO\\test_videos\\2.mp4: 384x640 1 License_Plate, 19.8ms\n",
      "video 1/1 (frame 124/258) d:\\Mycode\\YOLO\\test_videos\\2.mp4: 384x640 1 License_Plate, 19.8ms\n",
      "video 1/1 (frame 125/258) d:\\Mycode\\YOLO\\test_videos\\2.mp4: 384x640 1 License_Plate, 21.5ms\n",
      "video 1/1 (frame 126/258) d:\\Mycode\\YOLO\\test_videos\\2.mp4: 384x640 1 License_Plate, 19.7ms\n",
      "video 1/1 (frame 127/258) d:\\Mycode\\YOLO\\test_videos\\2.mp4: 384x640 1 License_Plate, 19.7ms\n",
      "video 1/1 (frame 128/258) d:\\Mycode\\YOLO\\test_videos\\2.mp4: 384x640 1 License_Plate, 20.9ms\n",
      "video 1/1 (frame 129/258) d:\\Mycode\\YOLO\\test_videos\\2.mp4: 384x640 1 License_Plate, 19.7ms\n",
      "video 1/1 (frame 130/258) d:\\Mycode\\YOLO\\test_videos\\2.mp4: 384x640 1 License_Plate, 19.7ms\n",
      "video 1/1 (frame 131/258) d:\\Mycode\\YOLO\\test_videos\\2.mp4: 384x640 1 License_Plate, 19.4ms\n",
      "video 1/1 (frame 132/258) d:\\Mycode\\YOLO\\test_videos\\2.mp4: 384x640 1 License_Plate, 19.6ms\n",
      "video 1/1 (frame 133/258) d:\\Mycode\\YOLO\\test_videos\\2.mp4: 384x640 1 License_Plate, 19.4ms\n",
      "video 1/1 (frame 134/258) d:\\Mycode\\YOLO\\test_videos\\2.mp4: 384x640 1 License_Plate, 20.0ms\n",
      "video 1/1 (frame 135/258) d:\\Mycode\\YOLO\\test_videos\\2.mp4: 384x640 1 License_Plate, 19.9ms\n",
      "video 1/1 (frame 136/258) d:\\Mycode\\YOLO\\test_videos\\2.mp4: 384x640 1 License_Plate, 20.4ms\n",
      "video 1/1 (frame 137/258) d:\\Mycode\\YOLO\\test_videos\\2.mp4: 384x640 1 License_Plate, 20.0ms\n",
      "video 1/1 (frame 138/258) d:\\Mycode\\YOLO\\test_videos\\2.mp4: 384x640 1 License_Plate, 19.4ms\n",
      "video 1/1 (frame 139/258) d:\\Mycode\\YOLO\\test_videos\\2.mp4: 384x640 1 License_Plate, 19.8ms\n",
      "video 1/1 (frame 140/258) d:\\Mycode\\YOLO\\test_videos\\2.mp4: 384x640 1 License_Plate, 19.8ms\n",
      "video 1/1 (frame 141/258) d:\\Mycode\\YOLO\\test_videos\\2.mp4: 384x640 1 License_Plate, 19.6ms\n",
      "video 1/1 (frame 142/258) d:\\Mycode\\YOLO\\test_videos\\2.mp4: 384x640 1 License_Plate, 19.8ms\n",
      "video 1/1 (frame 143/258) d:\\Mycode\\YOLO\\test_videos\\2.mp4: 384x640 1 License_Plate, 19.5ms\n",
      "video 1/1 (frame 144/258) d:\\Mycode\\YOLO\\test_videos\\2.mp4: 384x640 1 License_Plate, 21.3ms\n",
      "video 1/1 (frame 145/258) d:\\Mycode\\YOLO\\test_videos\\2.mp4: 384x640 1 License_Plate, 19.6ms\n",
      "video 1/1 (frame 146/258) d:\\Mycode\\YOLO\\test_videos\\2.mp4: 384x640 1 License_Plate, 20.2ms\n",
      "video 1/1 (frame 147/258) d:\\Mycode\\YOLO\\test_videos\\2.mp4: 384x640 1 License_Plate, 19.7ms\n",
      "video 1/1 (frame 148/258) d:\\Mycode\\YOLO\\test_videos\\2.mp4: 384x640 1 License_Plate, 19.7ms\n",
      "video 1/1 (frame 149/258) d:\\Mycode\\YOLO\\test_videos\\2.mp4: 384x640 1 License_Plate, 22.3ms\n",
      "video 1/1 (frame 150/258) d:\\Mycode\\YOLO\\test_videos\\2.mp4: 384x640 1 License_Plate, 20.0ms\n",
      "video 1/1 (frame 151/258) d:\\Mycode\\YOLO\\test_videos\\2.mp4: 384x640 1 License_Plate, 19.6ms\n",
      "video 1/1 (frame 152/258) d:\\Mycode\\YOLO\\test_videos\\2.mp4: 384x640 1 License_Plate, 19.7ms\n",
      "video 1/1 (frame 153/258) d:\\Mycode\\YOLO\\test_videos\\2.mp4: 384x640 1 License_Plate, 25.6ms\n",
      "video 1/1 (frame 154/258) d:\\Mycode\\YOLO\\test_videos\\2.mp4: 384x640 1 License_Plate, 19.4ms\n",
      "video 1/1 (frame 155/258) d:\\Mycode\\YOLO\\test_videos\\2.mp4: 384x640 1 License_Plate, 19.8ms\n",
      "video 1/1 (frame 156/258) d:\\Mycode\\YOLO\\test_videos\\2.mp4: 384x640 1 License_Plate, 20.1ms\n",
      "video 1/1 (frame 157/258) d:\\Mycode\\YOLO\\test_videos\\2.mp4: 384x640 1 License_Plate, 19.5ms\n",
      "video 1/1 (frame 158/258) d:\\Mycode\\YOLO\\test_videos\\2.mp4: 384x640 1 License_Plate, 20.2ms\n",
      "video 1/1 (frame 159/258) d:\\Mycode\\YOLO\\test_videos\\2.mp4: 384x640 1 License_Plate, 19.2ms\n",
      "video 1/1 (frame 160/258) d:\\Mycode\\YOLO\\test_videos\\2.mp4: 384x640 1 License_Plate, 28.3ms\n",
      "video 1/1 (frame 161/258) d:\\Mycode\\YOLO\\test_videos\\2.mp4: 384x640 1 License_Plate, 22.1ms\n",
      "video 1/1 (frame 162/258) d:\\Mycode\\YOLO\\test_videos\\2.mp4: 384x640 2 License_Plates, 20.6ms\n",
      "video 1/1 (frame 163/258) d:\\Mycode\\YOLO\\test_videos\\2.mp4: 384x640 1 License_Plate, 19.5ms\n",
      "video 1/1 (frame 164/258) d:\\Mycode\\YOLO\\test_videos\\2.mp4: 384x640 1 License_Plate, 21.1ms\n",
      "video 1/1 (frame 165/258) d:\\Mycode\\YOLO\\test_videos\\2.mp4: 384x640 1 License_Plate, 19.7ms\n",
      "video 1/1 (frame 166/258) d:\\Mycode\\YOLO\\test_videos\\2.mp4: 384x640 1 License_Plate, 19.5ms\n",
      "video 1/1 (frame 167/258) d:\\Mycode\\YOLO\\test_videos\\2.mp4: 384x640 1 License_Plate, 19.8ms\n",
      "video 1/1 (frame 168/258) d:\\Mycode\\YOLO\\test_videos\\2.mp4: 384x640 1 License_Plate, 20.8ms\n",
      "video 1/1 (frame 169/258) d:\\Mycode\\YOLO\\test_videos\\2.mp4: 384x640 1 License_Plate, 19.7ms\n",
      "video 1/1 (frame 170/258) d:\\Mycode\\YOLO\\test_videos\\2.mp4: 384x640 1 License_Plate, 19.7ms\n",
      "video 1/1 (frame 171/258) d:\\Mycode\\YOLO\\test_videos\\2.mp4: 384x640 1 License_Plate, 21.1ms\n",
      "video 1/1 (frame 172/258) d:\\Mycode\\YOLO\\test_videos\\2.mp4: 384x640 1 License_Plate, 20.2ms\n",
      "video 1/1 (frame 173/258) d:\\Mycode\\YOLO\\test_videos\\2.mp4: 384x640 1 License_Plate, 19.3ms\n",
      "video 1/1 (frame 174/258) d:\\Mycode\\YOLO\\test_videos\\2.mp4: 384x640 1 License_Plate, 20.1ms\n",
      "video 1/1 (frame 175/258) d:\\Mycode\\YOLO\\test_videos\\2.mp4: 384x640 1 License_Plate, 19.6ms\n",
      "video 1/1 (frame 176/258) d:\\Mycode\\YOLO\\test_videos\\2.mp4: 384x640 1 License_Plate, 20.2ms\n",
      "video 1/1 (frame 177/258) d:\\Mycode\\YOLO\\test_videos\\2.mp4: 384x640 1 License_Plate, 21.0ms\n",
      "video 1/1 (frame 178/258) d:\\Mycode\\YOLO\\test_videos\\2.mp4: 384x640 1 License_Plate, 19.4ms\n",
      "video 1/1 (frame 179/258) d:\\Mycode\\YOLO\\test_videos\\2.mp4: 384x640 1 License_Plate, 21.0ms\n",
      "video 1/1 (frame 180/258) d:\\Mycode\\YOLO\\test_videos\\2.mp4: 384x640 1 License_Plate, 19.6ms\n",
      "video 1/1 (frame 181/258) d:\\Mycode\\YOLO\\test_videos\\2.mp4: 384x640 1 License_Plate, 19.8ms\n",
      "video 1/1 (frame 182/258) d:\\Mycode\\YOLO\\test_videos\\2.mp4: 384x640 1 License_Plate, 19.7ms\n",
      "video 1/1 (frame 183/258) d:\\Mycode\\YOLO\\test_videos\\2.mp4: 384x640 1 License_Plate, 19.3ms\n",
      "video 1/1 (frame 184/258) d:\\Mycode\\YOLO\\test_videos\\2.mp4: 384x640 1 License_Plate, 19.6ms\n",
      "video 1/1 (frame 185/258) d:\\Mycode\\YOLO\\test_videos\\2.mp4: 384x640 1 License_Plate, 19.5ms\n",
      "video 1/1 (frame 186/258) d:\\Mycode\\YOLO\\test_videos\\2.mp4: 384x640 1 License_Plate, 19.5ms\n",
      "video 1/1 (frame 187/258) d:\\Mycode\\YOLO\\test_videos\\2.mp4: 384x640 1 License_Plate, 19.5ms\n",
      "video 1/1 (frame 188/258) d:\\Mycode\\YOLO\\test_videos\\2.mp4: 384x640 1 License_Plate, 19.5ms\n",
      "video 1/1 (frame 189/258) d:\\Mycode\\YOLO\\test_videos\\2.mp4: 384x640 1 License_Plate, 21.4ms\n",
      "video 1/1 (frame 190/258) d:\\Mycode\\YOLO\\test_videos\\2.mp4: 384x640 2 License_Plates, 19.6ms\n",
      "video 1/1 (frame 191/258) d:\\Mycode\\YOLO\\test_videos\\2.mp4: 384x640 1 License_Plate, 19.7ms\n",
      "video 1/1 (frame 192/258) d:\\Mycode\\YOLO\\test_videos\\2.mp4: 384x640 1 License_Plate, 19.9ms\n",
      "video 1/1 (frame 193/258) d:\\Mycode\\YOLO\\test_videos\\2.mp4: 384x640 1 License_Plate, 20.8ms\n",
      "video 1/1 (frame 194/258) d:\\Mycode\\YOLO\\test_videos\\2.mp4: 384x640 1 License_Plate, 19.5ms\n",
      "video 1/1 (frame 195/258) d:\\Mycode\\YOLO\\test_videos\\2.mp4: 384x640 1 License_Plate, 22.7ms\n",
      "video 1/1 (frame 196/258) d:\\Mycode\\YOLO\\test_videos\\2.mp4: 384x640 1 License_Plate, 19.9ms\n",
      "video 1/1 (frame 197/258) d:\\Mycode\\YOLO\\test_videos\\2.mp4: 384x640 1 License_Plate, 19.3ms\n",
      "video 1/1 (frame 198/258) d:\\Mycode\\YOLO\\test_videos\\2.mp4: 384x640 1 License_Plate, 19.5ms\n",
      "video 1/1 (frame 199/258) d:\\Mycode\\YOLO\\test_videos\\2.mp4: 384x640 1 License_Plate, 20.0ms\n",
      "video 1/1 (frame 200/258) d:\\Mycode\\YOLO\\test_videos\\2.mp4: 384x640 1 License_Plate, 22.3ms\n",
      "video 1/1 (frame 201/258) d:\\Mycode\\YOLO\\test_videos\\2.mp4: 384x640 1 License_Plate, 19.3ms\n",
      "video 1/1 (frame 202/258) d:\\Mycode\\YOLO\\test_videos\\2.mp4: 384x640 1 License_Plate, 19.9ms\n",
      "video 1/1 (frame 203/258) d:\\Mycode\\YOLO\\test_videos\\2.mp4: 384x640 1 License_Plate, 19.4ms\n",
      "video 1/1 (frame 204/258) d:\\Mycode\\YOLO\\test_videos\\2.mp4: 384x640 1 License_Plate, 19.8ms\n",
      "video 1/1 (frame 205/258) d:\\Mycode\\YOLO\\test_videos\\2.mp4: 384x640 1 License_Plate, 20.1ms\n",
      "video 1/1 (frame 206/258) d:\\Mycode\\YOLO\\test_videos\\2.mp4: 384x640 1 License_Plate, 20.9ms\n",
      "video 1/1 (frame 207/258) d:\\Mycode\\YOLO\\test_videos\\2.mp4: 384x640 1 License_Plate, 19.9ms\n",
      "video 1/1 (frame 208/258) d:\\Mycode\\YOLO\\test_videos\\2.mp4: 384x640 1 License_Plate, 20.0ms\n",
      "video 1/1 (frame 209/258) d:\\Mycode\\YOLO\\test_videos\\2.mp4: 384x640 1 License_Plate, 19.4ms\n",
      "video 1/1 (frame 210/258) d:\\Mycode\\YOLO\\test_videos\\2.mp4: 384x640 1 License_Plate, 19.8ms\n",
      "video 1/1 (frame 211/258) d:\\Mycode\\YOLO\\test_videos\\2.mp4: 384x640 2 License_Plates, 22.3ms\n",
      "video 1/1 (frame 212/258) d:\\Mycode\\YOLO\\test_videos\\2.mp4: 384x640 1 License_Plate, 20.2ms\n",
      "video 1/1 (frame 213/258) d:\\Mycode\\YOLO\\test_videos\\2.mp4: 384x640 1 License_Plate, 19.5ms\n",
      "video 1/1 (frame 214/258) d:\\Mycode\\YOLO\\test_videos\\2.mp4: 384x640 1 License_Plate, 19.3ms\n",
      "video 1/1 (frame 215/258) d:\\Mycode\\YOLO\\test_videos\\2.mp4: 384x640 2 License_Plates, 19.7ms\n",
      "video 1/1 (frame 216/258) d:\\Mycode\\YOLO\\test_videos\\2.mp4: 384x640 1 License_Plate, 22.9ms\n",
      "video 1/1 (frame 217/258) d:\\Mycode\\YOLO\\test_videos\\2.mp4: 384x640 1 License_Plate, 20.4ms\n",
      "video 1/1 (frame 218/258) d:\\Mycode\\YOLO\\test_videos\\2.mp4: 384x640 2 License_Plates, 19.8ms\n",
      "video 1/1 (frame 219/258) d:\\Mycode\\YOLO\\test_videos\\2.mp4: 384x640 2 License_Plates, 19.5ms\n",
      "video 1/1 (frame 220/258) d:\\Mycode\\YOLO\\test_videos\\2.mp4: 384x640 1 License_Plate, 19.5ms\n",
      "video 1/1 (frame 221/258) d:\\Mycode\\YOLO\\test_videos\\2.mp4: 384x640 1 License_Plate, 19.8ms\n",
      "video 1/1 (frame 222/258) d:\\Mycode\\YOLO\\test_videos\\2.mp4: 384x640 1 License_Plate, 22.4ms\n",
      "video 1/1 (frame 223/258) d:\\Mycode\\YOLO\\test_videos\\2.mp4: 384x640 1 License_Plate, 19.4ms\n",
      "video 1/1 (frame 224/258) d:\\Mycode\\YOLO\\test_videos\\2.mp4: 384x640 1 License_Plate, 22.2ms\n",
      "video 1/1 (frame 225/258) d:\\Mycode\\YOLO\\test_videos\\2.mp4: 384x640 1 License_Plate, 19.3ms\n",
      "video 1/1 (frame 226/258) d:\\Mycode\\YOLO\\test_videos\\2.mp4: 384x640 1 License_Plate, 19.4ms\n",
      "video 1/1 (frame 227/258) d:\\Mycode\\YOLO\\test_videos\\2.mp4: 384x640 1 License_Plate, 19.4ms\n",
      "video 1/1 (frame 228/258) d:\\Mycode\\YOLO\\test_videos\\2.mp4: 384x640 2 License_Plates, 20.2ms\n",
      "video 1/1 (frame 229/258) d:\\Mycode\\YOLO\\test_videos\\2.mp4: 384x640 1 License_Plate, 20.2ms\n",
      "video 1/1 (frame 230/258) d:\\Mycode\\YOLO\\test_videos\\2.mp4: 384x640 1 License_Plate, 19.7ms\n",
      "video 1/1 (frame 231/258) d:\\Mycode\\YOLO\\test_videos\\2.mp4: 384x640 1 License_Plate, 19.8ms\n",
      "video 1/1 (frame 232/258) d:\\Mycode\\YOLO\\test_videos\\2.mp4: 384x640 2 License_Plates, 20.3ms\n",
      "video 1/1 (frame 233/258) d:\\Mycode\\YOLO\\test_videos\\2.mp4: 384x640 1 License_Plate, 20.7ms\n",
      "video 1/1 (frame 234/258) d:\\Mycode\\YOLO\\test_videos\\2.mp4: 384x640 2 License_Plates, 19.9ms\n",
      "video 1/1 (frame 235/258) d:\\Mycode\\YOLO\\test_videos\\2.mp4: 384x640 1 License_Plate, 20.6ms\n",
      "video 1/1 (frame 236/258) d:\\Mycode\\YOLO\\test_videos\\2.mp4: 384x640 1 License_Plate, 24.2ms\n",
      "video 1/1 (frame 237/258) d:\\Mycode\\YOLO\\test_videos\\2.mp4: 384x640 1 License_Plate, 19.5ms\n",
      "video 1/1 (frame 238/258) d:\\Mycode\\YOLO\\test_videos\\2.mp4: 384x640 1 License_Plate, 21.2ms\n",
      "video 1/1 (frame 239/258) d:\\Mycode\\YOLO\\test_videos\\2.mp4: 384x640 1 License_Plate, 19.9ms\n",
      "video 1/1 (frame 240/258) d:\\Mycode\\YOLO\\test_videos\\2.mp4: 384x640 2 License_Plates, 19.5ms\n",
      "video 1/1 (frame 241/258) d:\\Mycode\\YOLO\\test_videos\\2.mp4: 384x640 2 License_Plates, 19.4ms\n",
      "video 1/1 (frame 242/258) d:\\Mycode\\YOLO\\test_videos\\2.mp4: 384x640 4 License_Plates, 19.7ms\n",
      "video 1/1 (frame 243/258) d:\\Mycode\\YOLO\\test_videos\\2.mp4: 384x640 2 License_Plates, 21.2ms\n",
      "video 1/1 (frame 244/258) d:\\Mycode\\YOLO\\test_videos\\2.mp4: 384x640 2 License_Plates, 24.2ms\n",
      "video 1/1 (frame 245/258) d:\\Mycode\\YOLO\\test_videos\\2.mp4: 384x640 2 License_Plates, 20.0ms\n",
      "video 1/1 (frame 246/258) d:\\Mycode\\YOLO\\test_videos\\2.mp4: 384x640 2 License_Plates, 20.3ms\n",
      "video 1/1 (frame 247/258) d:\\Mycode\\YOLO\\test_videos\\2.mp4: 384x640 3 License_Plates, 19.6ms\n",
      "video 1/1 (frame 248/258) d:\\Mycode\\YOLO\\test_videos\\2.mp4: 384x640 1 License_Plate, 21.4ms\n",
      "video 1/1 (frame 249/258) d:\\Mycode\\YOLO\\test_videos\\2.mp4: 384x640 2 License_Plates, 19.6ms\n",
      "video 1/1 (frame 250/258) d:\\Mycode\\YOLO\\test_videos\\2.mp4: 384x640 2 License_Plates, 19.9ms\n",
      "video 1/1 (frame 251/258) d:\\Mycode\\YOLO\\test_videos\\2.mp4: 384x640 2 License_Plates, 19.5ms\n",
      "video 1/1 (frame 252/258) d:\\Mycode\\YOLO\\test_videos\\2.mp4: 384x640 2 License_Plates, 19.9ms\n",
      "video 1/1 (frame 253/258) d:\\Mycode\\YOLO\\test_videos\\2.mp4: 384x640 2 License_Plates, 19.7ms\n",
      "video 1/1 (frame 254/258) d:\\Mycode\\YOLO\\test_videos\\2.mp4: 384x640 3 License_Plates, 20.8ms\n",
      "video 1/1 (frame 255/258) d:\\Mycode\\YOLO\\test_videos\\2.mp4: 384x640 2 License_Plates, 19.8ms\n",
      "video 1/1 (frame 256/258) d:\\Mycode\\YOLO\\test_videos\\2.mp4: 384x640 2 License_Plates, 20.3ms\n",
      "video 1/1 (frame 257/258) d:\\Mycode\\YOLO\\test_videos\\2.mp4: 384x640 2 License_Plates, 19.5ms\n",
      "video 1/1 (frame 258/258) d:\\Mycode\\YOLO\\test_videos\\2.mp4: 384x640 2 License_Plates, 20.3ms\n",
      "Speed: 3.3ms preprocess, 19.8ms inference, 2.9ms postprocess per image at shape (1, 3, 384, 640)\n",
      "Results saved to \u001b[1mruns\\detect\\predict5\u001b[0m\n"
     ]
    }
   ],
   "source": [
    "from IPython.display import Video\n",
    "\n",
    "# Perform object detection on an image\n",
    "model = YOLO(\"runs/detect/train11/weights/best.pt\")\n",
    "results = model(\"test_videos/2.mp4\", save=True)\n"
   ]
  },
  {
   "cell_type": "code",
   "execution_count": null,
   "id": "4903d592",
   "metadata": {},
   "outputs": [],
   "source": []
  }
 ],
 "metadata": {
  "kernelspec": {
   "display_name": "myenv",
   "language": "python",
   "name": "python3"
  },
  "language_info": {
   "codemirror_mode": {
    "name": "ipython",
    "version": 3
   },
   "file_extension": ".py",
   "mimetype": "text/x-python",
   "name": "python",
   "nbconvert_exporter": "python",
   "pygments_lexer": "ipython3",
   "version": "3.10.16"
  }
 },
 "nbformat": 4,
 "nbformat_minor": 5
}
